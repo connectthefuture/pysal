{
 "metadata": {
  "name": "faces"
 },
 "nbformat": 3,
 "nbformat_minor": 0,
 "worksheets": [
  {
   "cells": [
    {
     "cell_type": "heading",
     "level": 2,
     "metadata": {},
     "source": [
      "Constructing winged edge data structure from a planar graph"
     ]
    },
    {
     "cell_type": "markdown",
     "metadata": {},
     "source": [
      "Author: Serge Rey <sjsrey@gmail.com>"
     ]
    },
    {
     "cell_type": "code",
     "collapsed": false,
     "input": [
      "import networkx as nx"
     ],
     "language": "python",
     "metadata": {},
     "outputs": [],
     "prompt_number": 1
    },
    {
     "cell_type": "code",
     "collapsed": false,
     "input": [
      "# from eberly http://www.geometrictools.com/Documentation/MinimalCycleBasis.pdf\n",
      "\n",
      "coords = {}\n",
      "coords[0] = 1,8\n",
      "coords[1] = 1,7\n",
      "coords[2] = 4,7\n",
      "coords[3] = 0,4\n",
      "coords[4] = 5,4\n",
      "coords[5] = 3,5\n",
      "coords[6] = 2, 4.5\n",
      "coords[7] = 6.5, 9\n",
      "coords[8] = 6.2, 5\n",
      "coords[9] = 5.5,3\n",
      "coords[10] = 7,3\n",
      "coords[11] = 7.5, 7.25\n",
      "coords[12] = 8,4\n",
      "coords[13] = 11.5, 7.25\n",
      "coords[14] = 9, 1\n",
      "coords[15] = 11, 3\n",
      "coords[16] = 12, 2\n",
      "coords[17] = 12, 5\n",
      "coords[18] = 13.5, 6\n",
      "coords[19] = 14, 7.25\n",
      "coords[20] = 16, 4\n",
      "coords[21] = 18, 8.5\n",
      "coords[22] = 16, 1\n",
      "coords[23] = 21, 1\n",
      "coords[24] = 21, 4\n",
      "coords[25] = 18, 3.5\n",
      "coords[26] = 17, 2\n",
      "coords[27] = 19, 2\n",
      "\n",
      "\n",
      "vertices = {}\n",
      "for v in range(28):\n",
      "    vertices[v] = []"
     ],
     "language": "python",
     "metadata": {},
     "outputs": [],
     "prompt_number": 2
    },
    {
     "cell_type": "code",
     "collapsed": false,
     "input": [
      "vertices[1] = [2,3]\n",
      "vertices[2] = [1,4,7]\n",
      "vertices[3] = [1,4]\n",
      "vertices[4] = [2,3,5]\n",
      "vertices[5] = [4,6]\n",
      "vertices[6] = [5]\n",
      "vertices[7] = [2,11]\n",
      "vertices[8] = [9,10]\n",
      "vertices[9] = [8,10]\n",
      "vertices[10] = [8,9]\n",
      "vertices[11] = [7,12,13]\n",
      "vertices[12] = [11,13,20]\n",
      "vertices[13] = [11,12,18]\n",
      "vertices[14] = [15]\n",
      "vertices[15] = [14, 16]\n",
      "vertices[16] = [15]\n",
      "vertices[18] = [13,19]\n",
      "vertices[19] = [18,20,21]\n",
      "vertices[20] = [12,19,21,22,24]\n",
      "vertices[21] = [19,20]\n",
      "vertices[22] = [20,23]\n",
      "vertices[23] = [22,24]\n",
      "vertices[24] = [20,23]\n",
      "vertices[25] = [26,27]\n",
      "vertices[26] = [25,27]\n",
      "vertices[27] = [25,26]"
     ],
     "language": "python",
     "metadata": {},
     "outputs": [],
     "prompt_number": 3
    },
    {
     "cell_type": "code",
     "collapsed": false,
     "input": [
      "eberly = vertices.copy()\n",
      "coords = coords.values()"
     ],
     "language": "python",
     "metadata": {},
     "outputs": [],
     "prompt_number": 4
    },
    {
     "cell_type": "code",
     "collapsed": false,
     "input": [
      "coords"
     ],
     "language": "python",
     "metadata": {},
     "outputs": [
      {
       "output_type": "pyout",
       "prompt_number": 5,
       "text": [
        "[(1, 8),\n",
        " (1, 7),\n",
        " (4, 7),\n",
        " (0, 4),\n",
        " (5, 4),\n",
        " (3, 5),\n",
        " (2, 4.5),\n",
        " (6.5, 9),\n",
        " (6.2, 5),\n",
        " (5.5, 3),\n",
        " (7, 3),\n",
        " (7.5, 7.25),\n",
        " (8, 4),\n",
        " (11.5, 7.25),\n",
        " (9, 1),\n",
        " (11, 3),\n",
        " (12, 2),\n",
        " (12, 5),\n",
        " (13.5, 6),\n",
        " (14, 7.25),\n",
        " (16, 4),\n",
        " (18, 8.5),\n",
        " (16, 1),\n",
        " (21, 1),\n",
        " (21, 4),\n",
        " (18, 3.5),\n",
        " (17, 2),\n",
        " (19, 2)]"
       ]
      }
     ],
     "prompt_number": 5
    },
    {
     "cell_type": "code",
     "collapsed": false,
     "input": [
      "eg = nx.Graph(vertices)\n",
      "g = nx.Graph(vertices)"
     ],
     "language": "python",
     "metadata": {},
     "outputs": [],
     "prompt_number": 6
    },
    {
     "cell_type": "code",
     "collapsed": false,
     "input": [
      "nx.draw(g,pos = coords)"
     ],
     "language": "python",
     "metadata": {},
     "outputs": [
      {
       "output_type": "display_data",
       "png": "[encoded data removed]"
      }
     ],
     "prompt_number": 7
    },
    {
     "cell_type": "code",
     "collapsed": false,
     "input": [
      "# remove filaments first\n",
      "# v1 v2 v3 .. vv   where v1 and vv are either end points or branch points\n",
      "# and v2 v3 .. upto vv-a all have incidence  = 2"
     ],
     "language": "python",
     "metadata": {},
     "outputs": [],
     "prompt_number": 8
    },
    {
     "cell_type": "code",
     "collapsed": false,
     "input": [
      "# manually for now. jay working on primatives"
     ],
     "language": "python",
     "metadata": {},
     "outputs": [],
     "prompt_number": 9
    },
    {
     "cell_type": "code",
     "collapsed": false,
     "input": [
      "filaments = [ (6,5,4), (2,7,11), (14,15,16) ]\n",
      "filament_neighbors = {}\n",
      "for filament in filaments:\n",
      "    for node in filament:\n",
      "        filament_neighbors[node] = vertices[node][:]"
     ],
     "language": "python",
     "metadata": {},
     "outputs": [],
     "prompt_number": 10
    },
    {
     "cell_type": "code",
     "collapsed": false,
     "input": [
      "filament_neighbors"
     ],
     "language": "python",
     "metadata": {},
     "outputs": [
      {
       "output_type": "pyout",
       "prompt_number": 11,
       "text": [
        "{2: [1, 4, 7],\n",
        " 4: [2, 3, 5],\n",
        " 5: [4, 6],\n",
        " 6: [5],\n",
        " 7: [2, 11],\n",
        " 11: [7, 12, 13],\n",
        " 14: [15],\n",
        " 15: [14, 16],\n",
        " 16: [15]}"
       ]
      }
     ],
     "prompt_number": 11
    },
    {
     "cell_type": "code",
     "collapsed": false,
     "input": [
      "vertices[2].remove(7)"
     ],
     "language": "python",
     "metadata": {},
     "outputs": [],
     "prompt_number": 12
    },
    {
     "cell_type": "code",
     "collapsed": false,
     "input": [
      "vertices[7].remove(2)\n",
      "vertices[7].remove(11)\n",
      "vertices[11].remove(7)"
     ],
     "language": "python",
     "metadata": {},
     "outputs": [],
     "prompt_number": 13
    },
    {
     "cell_type": "code",
     "collapsed": false,
     "input": [
      "vertices[4].remove(5)\n",
      "vertices[5].remove(4)\n",
      "vertices[6].remove(5)\n",
      "vertices[5].remove(6)"
     ],
     "language": "python",
     "metadata": {},
     "outputs": [],
     "prompt_number": 14
    },
    {
     "cell_type": "code",
     "collapsed": false,
     "input": [
      "del vertices[0]"
     ],
     "language": "python",
     "metadata": {},
     "outputs": [],
     "prompt_number": 15
    },
    {
     "cell_type": "code",
     "collapsed": false,
     "input": [
      "del vertices[6]\n",
      "del vertices[5]\n",
      "del vertices[7]\n",
      "del vertices[14]\n",
      "del vertices[15]\n",
      "del vertices[16]"
     ],
     "language": "python",
     "metadata": {},
     "outputs": [],
     "prompt_number": 16
    },
    {
     "cell_type": "code",
     "collapsed": false,
     "input": [
      "filament_neighbors\n",
      "    \n"
     ],
     "language": "python",
     "metadata": {},
     "outputs": [
      {
       "output_type": "pyout",
       "prompt_number": 17,
       "text": [
        "{2: [1, 4, 7],\n",
        " 4: [2, 3, 5],\n",
        " 5: [4, 6],\n",
        " 6: [5],\n",
        " 7: [2, 11],\n",
        " 11: [7, 12, 13],\n",
        " 14: [15],\n",
        " 15: [14, 16],\n",
        " 16: [15]}"
       ]
      }
     ],
     "prompt_number": 17
    },
    {
     "cell_type": "code",
     "collapsed": false,
     "input": [
      "vertices"
     ],
     "language": "python",
     "metadata": {},
     "outputs": [
      {
       "output_type": "pyout",
       "prompt_number": 18,
       "text": [
        "{1: [2, 3],\n",
        " 2: [1, 4],\n",
        " 3: [1, 4],\n",
        " 4: [2, 3],\n",
        " 8: [9, 10],\n",
        " 9: [8, 10],\n",
        " 10: [8, 9],\n",
        " 11: [12, 13],\n",
        " 12: [11, 13, 20],\n",
        " 13: [11, 12, 18],\n",
        " 17: [],\n",
        " 18: [13, 19],\n",
        " 19: [18, 20, 21],\n",
        " 20: [12, 19, 21, 22, 24],\n",
        " 21: [19, 20],\n",
        " 22: [20, 23],\n",
        " 23: [22, 24],\n",
        " 24: [20, 23],\n",
        " 25: [26, 27],\n",
        " 26: [25, 27],\n",
        " 27: [25, 26]}"
       ]
      }
     ],
     "prompt_number": 18
    },
    {
     "cell_type": "code",
     "collapsed": false,
     "input": [
      "import itertools"
     ],
     "language": "python",
     "metadata": {},
     "outputs": [],
     "prompt_number": 19
    },
    {
     "cell_type": "code",
     "collapsed": false,
     "input": [
      "# this is working. can likely be optimized\n",
      "# uses algorithm from Horton (1987) \"A polynomial-time algorithm to find the shortest cycle basis of a graph\" SIAM J. Comput: 16(2) 358-366\n",
      "def min_cycles(G):\n",
      "    \"\"\"\n",
      "    extract minimum cycles from a plannar graph\n",
      " \n",
      "    Arguments\n",
      "    ---------\n",
      "\n",
      "    G: networkx graph (undirected)\n",
      "\n",
      "    Notes\n",
      "    -----\n",
      "    \n",
      "    filaments without end point edges (i.e., branch points on both ends of the filament) are assumed removed from G\n",
      "    \"\"\"\n",
      "    \n",
      "    sps = [ nx.single_source_dijkstra(G,n) for n in G.nodes()]\n",
      "    cycles=[]\n",
      "    d ={}\n",
      "    for row in sps:\n",
      "        lengths,paths = row\n",
      "        keys = lengths.keys()\n",
      "        v = [k for k in keys if  lengths[k] == 0][0]\n",
      "        keys.remove(v)\n",
      "        edges = [edge for edge in itertools.combinations(keys, 2) if G.has_edge(edge[0],edge[1])]\n",
      "        for edge in edges:\n",
      "            x,y = edge\n",
      "            sx = set(paths[x])\n",
      "            sy = set(paths[y])\n",
      "            if len(sx.intersection(sy))==1:\n",
      "                len_path = len(sx)+len(sy)-1\n",
      "                sxsy = tuple(sx.union(sy))\n",
      "                if sxsy not in d:\n",
      "                    d[sxsy] = len_path\n",
      "                else:\n",
      "                    if len_path < d[sxsy]:\n",
      "                        d[sxsy] = len_path\n",
      "                cycles.append((len_path,v,edge,sx,sy, sxsy))\n",
      "    s_cycles = [ set(c) for c in d.keys() ]\n",
      "    keep = [1]*len(s_cycles)\n",
      "    for i,c in enumerate(s_cycles):\n",
      "        for j,jc in enumerate(s_cycles):\n",
      "            if j!=i and jc.intersection(c) == c:\n",
      "                keep[j] = 0\n",
      "    cycles = [ s_cycles[i] for i,k in enumerate(keep) if k==1]\n",
      "    return cycles\n",
      "    "
     ],
     "language": "python",
     "metadata": {},
     "outputs": [],
     "prompt_number": 20
    },
    {
     "cell_type": "code",
     "collapsed": false,
     "input": [
      "G = nx.Graph(vertices)"
     ],
     "language": "python",
     "metadata": {},
     "outputs": [],
     "prompt_number": 21
    },
    {
     "cell_type": "code",
     "collapsed": false,
     "input": [
      "min_cycles(G)"
     ],
     "language": "python",
     "metadata": {},
     "outputs": [
      {
       "output_type": "pyout",
       "prompt_number": 22,
       "text": [
        "[set([8, 9, 10]),\n",
        " set([1, 2, 3, 4]),\n",
        " set([24, 20, 22, 23]),\n",
        " set([19, 20, 21]),\n",
        " set([11, 12, 13]),\n",
        " set([25, 26, 27]),\n",
        " set([12, 18, 19, 20, 13])]"
       ]
      }
     ],
     "prompt_number": 22
    },
    {
     "cell_type": "code",
     "collapsed": false,
     "input": [
      "import pysal as ps\n",
      "g9 = nx.Graph(ps.lat2W(3,3).neighbors)"
     ],
     "language": "python",
     "metadata": {},
     "outputs": [],
     "prompt_number": 23
    },
    {
     "cell_type": "code",
     "collapsed": false,
     "input": [
      "g9.nodes()"
     ],
     "language": "python",
     "metadata": {},
     "outputs": [
      {
       "output_type": "pyout",
       "prompt_number": 24,
       "text": [
        "[0, 1, 2, 3, 4, 5, 6, 7, 8]"
       ]
      }
     ],
     "prompt_number": 24
    },
    {
     "cell_type": "code",
     "collapsed": false,
     "input": [
      "min_cycles(g9)"
     ],
     "language": "python",
     "metadata": {},
     "outputs": [
      {
       "output_type": "pyout",
       "prompt_number": 25,
       "text": [
        "[set([8, 4, 5, 7]), set([0, 1, 3, 4]), set([3, 4, 6, 7]), set([1, 2, 4, 5])]"
       ]
      }
     ],
     "prompt_number": 25
    },
    {
     "cell_type": "code",
     "collapsed": false,
     "input": [
      "g25 = nx.Graph(ps.lat2W(5,5).neighbors)"
     ],
     "language": "python",
     "metadata": {},
     "outputs": [],
     "prompt_number": 26
    },
    {
     "cell_type": "code",
     "collapsed": false,
     "input": [
      "c25 = min_cycles(g25)"
     ],
     "language": "python",
     "metadata": {},
     "outputs": [],
     "prompt_number": 27
    },
    {
     "cell_type": "code",
     "collapsed": false,
     "input": [
      "c25"
     ],
     "language": "python",
     "metadata": {},
     "outputs": [
      {
       "output_type": "pyout",
       "prompt_number": 28,
       "text": [
        "[set([24, 18, 19, 23]),\n",
        " set([0, 1, 5, 6]),\n",
        " set([11, 12, 6, 7]),\n",
        " set([17, 18, 12, 13]),\n",
        " set([8, 2, 3, 7]),\n",
        " set([10, 11, 5, 6]),\n",
        " set([8, 9, 13, 14]),\n",
        " set([1, 2, 6, 7]),\n",
        " set([16, 17, 11, 12]),\n",
        " set([8, 12, 13, 7]),\n",
        " set([16, 10, 11, 15]),\n",
        " set([17, 18, 22, 23]),\n",
        " set([16, 20, 21, 15]),\n",
        " set([18, 19, 13, 14]),\n",
        " set([16, 17, 21, 22]),\n",
        " set([8, 9, 3, 4])]"
       ]
      }
     ],
     "prompt_number": 28
    },
    {
     "cell_type": "code",
     "collapsed": false,
     "input": [
      "len(c25)"
     ],
     "language": "python",
     "metadata": {},
     "outputs": [
      {
       "output_type": "pyout",
       "prompt_number": 29,
       "text": [
        "16"
       ]
      }
     ],
     "prompt_number": 29
    },
    {
     "cell_type": "code",
     "collapsed": false,
     "input": [
      "# now with filaments\n",
      "lat = ps.lat2W(5,5).neighbors"
     ],
     "language": "python",
     "metadata": {},
     "outputs": [],
     "prompt_number": 30
    },
    {
     "cell_type": "code",
     "collapsed": false,
     "input": [
      "lat = (lat.keys(),lat.values()) "
     ],
     "language": "python",
     "metadata": {},
     "outputs": [],
     "prompt_number": 31
    },
    {
     "cell_type": "code",
     "collapsed": false,
     "input": [
      "lat = dict(zip(lat[0],lat[1]))"
     ],
     "language": "python",
     "metadata": {},
     "outputs": [],
     "prompt_number": 32
    },
    {
     "cell_type": "code",
     "collapsed": false,
     "input": [
      "lat"
     ],
     "language": "python",
     "metadata": {},
     "outputs": [
      {
       "output_type": "pyout",
       "prompt_number": 33,
       "text": [
        "{0: [5, 1],\n",
        " 1: [0, 6, 2],\n",
        " 2: [1, 7, 3],\n",
        " 3: [2, 8, 4],\n",
        " 4: [3, 9],\n",
        " 5: [0, 10, 6],\n",
        " 6: [1, 5, 11, 7],\n",
        " 7: [2, 6, 12, 8],\n",
        " 8: [3, 7, 13, 9],\n",
        " 9: [4, 8, 14],\n",
        " 10: [5, 15, 11],\n",
        " 11: [6, 10, 16, 12],\n",
        " 12: [7, 11, 17, 13],\n",
        " 13: [8, 12, 18, 14],\n",
        " 14: [9, 13, 19],\n",
        " 15: [10, 20, 16],\n",
        " 16: [11, 15, 21, 17],\n",
        " 17: [12, 16, 22, 18],\n",
        " 18: [13, 17, 23, 19],\n",
        " 19: [14, 18, 24],\n",
        " 20: [15, 21],\n",
        " 21: [16, 20, 22],\n",
        " 22: [17, 21, 23],\n",
        " 23: [18, 22, 24],\n",
        " 24: [19, 23]}"
       ]
      }
     ],
     "prompt_number": 33
    },
    {
     "cell_type": "code",
     "collapsed": false,
     "input": [
      "lat[25] = [24, 26]\n",
      "lat[24] = [19, 23, 25]\n",
      "lat[26] = [25]"
     ],
     "language": "python",
     "metadata": {},
     "outputs": [],
     "prompt_number": 34
    },
    {
     "cell_type": "code",
     "collapsed": false,
     "input": [
      "lat"
     ],
     "language": "python",
     "metadata": {},
     "outputs": [
      {
       "output_type": "pyout",
       "prompt_number": 35,
       "text": [
        "{0: [5, 1],\n",
        " 1: [0, 6, 2],\n",
        " 2: [1, 7, 3],\n",
        " 3: [2, 8, 4],\n",
        " 4: [3, 9],\n",
        " 5: [0, 10, 6],\n",
        " 6: [1, 5, 11, 7],\n",
        " 7: [2, 6, 12, 8],\n",
        " 8: [3, 7, 13, 9],\n",
        " 9: [4, 8, 14],\n",
        " 10: [5, 15, 11],\n",
        " 11: [6, 10, 16, 12],\n",
        " 12: [7, 11, 17, 13],\n",
        " 13: [8, 12, 18, 14],\n",
        " 14: [9, 13, 19],\n",
        " 15: [10, 20, 16],\n",
        " 16: [11, 15, 21, 17],\n",
        " 17: [12, 16, 22, 18],\n",
        " 18: [13, 17, 23, 19],\n",
        " 19: [14, 18, 24],\n",
        " 20: [15, 21],\n",
        " 21: [16, 20, 22],\n",
        " 22: [17, 21, 23],\n",
        " 23: [18, 22, 24],\n",
        " 24: [19, 23, 25],\n",
        " 25: [24, 26],\n",
        " 26: [25]}"
       ]
      }
     ],
     "prompt_number": 35
    },
    {
     "cell_type": "code",
     "collapsed": false,
     "input": [
      "g = nx.Graph(lat)"
     ],
     "language": "python",
     "metadata": {},
     "outputs": [],
     "prompt_number": 36
    },
    {
     "cell_type": "code",
     "collapsed": false,
     "input": [
      "min_cycles(g)"
     ],
     "language": "python",
     "metadata": {},
     "outputs": [
      {
       "output_type": "pyout",
       "prompt_number": 37,
       "text": [
        "[set([24, 18, 19, 23]),\n",
        " set([0, 1, 5, 6]),\n",
        " set([11, 12, 6, 7]),\n",
        " set([17, 18, 12, 13]),\n",
        " set([8, 2, 3, 7]),\n",
        " set([10, 11, 5, 6]),\n",
        " set([8, 9, 13, 14]),\n",
        " set([1, 2, 6, 7]),\n",
        " set([16, 17, 11, 12]),\n",
        " set([8, 12, 13, 7]),\n",
        " set([16, 10, 11, 15]),\n",
        " set([17, 18, 22, 23]),\n",
        " set([16, 20, 21, 15]),\n",
        " set([18, 19, 13, 14]),\n",
        " set([16, 17, 21, 22]),\n",
        " set([8, 9, 3, 4])]"
       ]
      }
     ],
     "prompt_number": 37
    },
    {
     "cell_type": "code",
     "collapsed": false,
     "input": [
      "c25f = min_cycles(g)"
     ],
     "language": "python",
     "metadata": {},
     "outputs": [],
     "prompt_number": 38
    },
    {
     "cell_type": "code",
     "collapsed": false,
     "input": [
      "c25f == c25"
     ],
     "language": "python",
     "metadata": {},
     "outputs": [
      {
       "output_type": "pyout",
       "prompt_number": 39,
       "text": [
        "True"
       ]
      }
     ],
     "prompt_number": 39
    },
    {
     "cell_type": "code",
     "collapsed": false,
     "input": [
      "eg = nx.Graph(eberly)"
     ],
     "language": "python",
     "metadata": {},
     "outputs": [],
     "prompt_number": 40
    },
    {
     "cell_type": "code",
     "collapsed": false,
     "input": [
      "eg_cycles = min_cycles(g)"
     ],
     "language": "python",
     "metadata": {},
     "outputs": [],
     "prompt_number": 41
    },
    {
     "cell_type": "code",
     "collapsed": false,
     "input": [
      "# note this doesn't work with filaments and isolated vertices included in the graph"
     ],
     "language": "python",
     "metadata": {},
     "outputs": [],
     "prompt_number": 42
    },
    {
     "cell_type": "code",
     "collapsed": false,
     "input": [
      "eg_cycles"
     ],
     "language": "python",
     "metadata": {},
     "outputs": [
      {
       "output_type": "pyout",
       "prompt_number": 43,
       "text": [
        "[set([24, 18, 19, 23]),\n",
        " set([0, 1, 5, 6]),\n",
        " set([11, 12, 6, 7]),\n",
        " set([17, 18, 12, 13]),\n",
        " set([8, 2, 3, 7]),\n",
        " set([10, 11, 5, 6]),\n",
        " set([8, 9, 13, 14]),\n",
        " set([1, 2, 6, 7]),\n",
        " set([16, 17, 11, 12]),\n",
        " set([8, 12, 13, 7]),\n",
        " set([16, 10, 11, 15]),\n",
        " set([17, 18, 22, 23]),\n",
        " set([16, 20, 21, 15]),\n",
        " set([18, 19, 13, 14]),\n",
        " set([16, 17, 21, 22]),\n",
        " set([8, 9, 3, 4])]"
       ]
      }
     ],
     "prompt_number": 43
    },
    {
     "cell_type": "code",
     "collapsed": false,
     "input": [
      "g_cycles = min_cycles(nx.Graph(vertices))"
     ],
     "language": "python",
     "metadata": {},
     "outputs": [],
     "prompt_number": 44
    },
    {
     "cell_type": "code",
     "collapsed": false,
     "input": [
      "g_cycles"
     ],
     "language": "python",
     "metadata": {},
     "outputs": [
      {
       "output_type": "pyout",
       "prompt_number": 45,
       "text": [
        "[set([8, 9, 10]),\n",
        " set([1, 2, 3, 4]),\n",
        " set([24, 20, 22, 23]),\n",
        " set([19, 20, 21]),\n",
        " set([11, 12, 13]),\n",
        " set([25, 26, 27]),\n",
        " set([12, 18, 19, 20, 13])]"
       ]
      }
     ],
     "prompt_number": 45
    },
    {
     "cell_type": "code",
     "collapsed": false,
     "input": [
      "def cw_cycle(nodes, neighbors):\n",
      "    \"\"\"\n",
      "    Put cycles in cw order\n",
      "    \"\"\"\n",
      "    \n",
      "    stack = [nodes[0]]\n",
      "    cw = []\n",
      "    while stack:\n",
      "        c = stack.pop()\n",
      "        cw.append(c)\n",
      "        nbrs = neighbors[c]\n",
      "        nbr = [nbr for nbr in nbrs if nbr in nodes and nbr not in cw]\n",
      "        if nbr:\n",
      "            stack.append(nbr[0])\n",
      "    if not ps.cg.standalone.is_clockwise([ps.cg.Point(coords[c]) for c in cw]):\n",
      "        cw = cw[::-1]        \n",
      "    return cw\n",
      "        \n",
      "        "
     ],
     "language": "python",
     "metadata": {},
     "outputs": [],
     "prompt_number": 46
    },
    {
     "cell_type": "code",
     "collapsed": false,
     "input": [
      "def wed(cycles, nodes, neighbors, filaments, filament_neighbors):\n",
      "    \"\"\"\n",
      "    Construct WED from minimum cycles\n",
      "\n",
      "\n",
      "    Arguments\n",
      "    ---------\n",
      "    \n",
      "    cycles: list of lists of nodes in cw order and closed for minimum cycles\n",
      "   \n",
      "    nodes: dictionary with node id as key and list of spatial coordites as value\n",
      "\n",
      "    neighbors: dictionary with node id as key and list of neighboring node ids as value\n",
      "\n",
      "    filaments: list of lists of nodes defining filaments (that have been removed prior to constructing cycles)\n",
      "\n",
      "    filaments_neighbors: dictionary with filament as key and list of neighboring nodes as value (includes nodes in filament and original graph)\n",
      "\n",
      "\n",
      "\n",
      "    Returns\n",
      "    -------\n",
      "\n",
      "    results: dictionary with pointers for winged edge data structure\n",
      "\n",
      "\n",
      "    Notes\n",
      "    -----\n",
      "\n",
      "    Need to determine how external polygon should be represented in WED. Have to handle filaments in cc and c edge lists.\n",
      "\n",
      "    All polygons are currently ordered cw upon completion. Do we want to put holes in ccw order?\n",
      "\n",
      "    \n",
      "\n",
      "\n",
      "\n",
      " \n",
      "    \"\"\"\n",
      "    cycles = [ cw_cycle(list(c), neighbors) for c in cycles ]\n",
      "    \n",
      "    edge_right_poly = {}\n",
      "    edge_left_poly = {}\n",
      "    poly_edge = {}\n",
      "    for p,cycle in enumerate(cycles):\n",
      "        #print cycle\n",
      "        cycle.append(cycle[0]) # closed form\n",
      "        n = len(cycle) - 1\n",
      "        for i in range(n):\n",
      "            o = cycle[i]\n",
      "            d = cycle[i+1]\n",
      "            edge_right_poly[o,d] = p\n",
      "            edge_left_poly[d,o] = p\n",
      "        poly_edge[p] = o,d\n",
      "    \n",
      "    \n",
      "    # handle holes\n",
      "    # build polygon spatial index\n",
      "    polys = []\n",
      "    for cycle in cycles:\n",
      "        polys.append(ps.cg.Polygon([ps.cg.Point(coords[pnt]) for pnt in cycle]))\n",
      "    pl = ps.cg.PolygonLocator(polys)\n",
      "    \n",
      "    # find all overlapping polygon mbrs\n",
      "    overlaps ={}\n",
      "    np = len(cycles)\n",
      "    for i in range(np):\n",
      "        overlaps[i] = pl.overlapping(polys[i].bounding_box)\n",
      "    \n",
      "    # for overlapping mbrs (left,right) check if right polygon is contained in left\n",
      "    holes = []\n",
      "    for k in overlaps:\n",
      "        for  pc in overlaps[k]:\n",
      "            s = sum( [polys[k].contains_point(v) for v in pc.vertices])\n",
      "            if s == len(pc.vertices):\n",
      "                # print k, pc\n",
      "                holes.append((k,pc))\n",
      "                \n",
      "    # for hole edges add left polygon\n",
      "    h = {}\n",
      "    for hole in holes:\n",
      "        outer, inner = hole\n",
      "        inner = polys.index(inner)\n",
      "        #print cycles[outer], cycles[inner]\n",
      "        if outer in h:\n",
      "            h[outer].append(inner)\n",
      "        else:\n",
      "            h[outer] = [inner]\n",
      "        nv = len(cycles[inner])-1\n",
      "        for i in range(nv):\n",
      "            edge = cycles[inner][i],cycles[inner][i+1]\n",
      "            edge_left_poly[edge] = outer\n",
      "            \n",
      "            \n",
      "    # add filaments back in\n",
      "    # test if they have an endpoint\n",
      "    # if so, test if endpoint is contained in any of the cycles\n",
      "    \n",
      "    # three types of filaments\n",
      "\n",
      "    # endpoint internal to a cycle\n",
      "    # endpoint external to all cycles\n",
      "    # filament with branch points on both v1 and vn\n",
      "\n",
      "    # for the first case, the left and right poly for all edges on the filament are the poly associated with the cycle\n",
      "    # for the second and third cases, the external polygon is left and right for all edges on the filament\n",
      "    ftypes = []\n",
      "    for f,filament in enumerate(filaments):\n",
      "        v0 = filament[0]\n",
      "        vn = filament[-1]\n",
      "        in0 = len(filament_neighbors[v0])\n",
      "        inn = len(filament_neighbors[vn])\n",
      "    \n",
      "        if in0 > 2 and inn > 2:\n",
      "            print 'branch point both ends: ', filament\n",
      "            # external polygon on r and left of filament edges\n",
      "            nv = len(filament)\n",
      "            for i in range(nv-1):\n",
      "                o = filament[i]\n",
      "                d = filament[i+1]\n",
      "                edge_right_poly[o,d] = np\n",
      "                edge_left_poly[o,d] = np\n",
      "                # do we need both d_o half edge?\n",
      "        \n",
      "        if in0 ==1 or inn == 1:\n",
      "            # print 'one end point: ', filament\n",
      "            # find which polygon contains end point\n",
      "            # that polygon is on left and right of all filament edges\n",
      "            if in0 == 1:\n",
      "                print v0, nodes[v0]\n",
      "                \n",
      "                pcp = pl.contains_point(nodes[v0])\n",
      "                if pcp:\n",
      "                    poly = polys.index(pcp[0])\n",
      "                else:\n",
      "                    poly = np # contained in external poly\n",
      "            else:\n",
      "                pcp = pl.contains_point(nodes[v0])\n",
      "                if pcp:\n",
      "                    poly = polys.index(pcp[0])\n",
      "                else:\n",
      "                    poly = np # contained in external poly\n",
      "\n",
      "            nv = len(filament)\n",
      "            for i in range(nv-1):\n",
      "                o = filament[i]\n",
      "                d = filament[i+1]\n",
      "                edge_right_poly[o,d] = poly\n",
      "                edge_left_poly[o,d] = poly\n",
      "                # do we need both d_o half edge?\n",
      "    \n",
      "    # for all edges ensure right and left polygon\n",
      "    edges = set(edge_right_poly.keys()).union(edge_left_poly.keys())\n",
      "    for edge in edges:\n",
      "        if edge not in edge_right_poly:\n",
      "            edge_right_poly[edge] = np\n",
      "        if edge not in edge_left_poly:\n",
      "            edge_left_poly[edge] = np\n",
      "            poly_edge[np] = edge # not sure about external polygon, what should be the edge?\n",
      "        \n",
      "    start_node = {}\n",
      "    end_node = {}\n",
      "    node_link = {}\n",
      "    end_cc_link = {}\n",
      "    start_c_link = {}\n",
      "    end_c_link = {}\n",
      "    start_cc_link = {}\n",
      "    for edge in edges:\n",
      "        o,d = edge\n",
      "        start_node[edge] = o\n",
      "        end_node[edge] = d\n",
      "        node_link[o] = edge\n",
      "        rp = edge_right_poly[edge]\n",
      "        if rp < np:\n",
      "            #print edge, rp, cycles[rp]\n",
      "            try:\n",
      "                ni = cycles[rp].index(o)\n",
      "                end_cc_link[edge] = cycles[rp][ni+1],cycles[rp][ni+2] \n",
      "                #print cycles[rp]\n",
      "                if ni == 0:\n",
      "                    start_c_link[edge] = cycles[rp][-2],cycles[rp][-1]\n",
      "                else:\n",
      "                    start_c_link[edge] = cycles[rp][ni-1], cycles[rp][ni]\n",
      "            except:\n",
      "                # internal filament \n",
      "                print 'except rp:', edge, cycles[rp]\n",
      "        lp = edge_left_poly[edge]\n",
      "        print edge, lp\n",
      "        if lp < np:\n",
      "            cycle = cycles[lp]\n",
      "            if edge[0] in cycle:\n",
      "                oi = cycle.index(edge[0])\n",
      "                di = cycle.index(edge[1])\n",
      "                prev = cycle[:-1]\n",
      "                succ = cycle[:-1]\n",
      "                prev[1:] = cycle[:-2]\n",
      "                prev[0] = cycle[-2]\n",
      "                succ[:-1] = cycle[1:-1]\n",
      "                succ[-1] = cycle[0]\n",
      "                start_cc_link[edge] = cycle[oi], succ[oi]\n",
      "                end_c_link[edge] = prev[di], cycle[di]\n",
      "            else:\n",
      "                print 'hole or internal filament', edge, cycle\n",
      "        \n",
      "        \n",
      "        \n",
      "    results = {}\n",
      "    results['node_link'] = node_link\n",
      "    results['start_node'] = start_node\n",
      "    results['end_node'] = end_node\n",
      "    results['poly_edge'] = poly_edge\n",
      "    results['edge_right_poly'] = edge_right_poly\n",
      "    results['edge_left_poly'] = edge_left_poly\n",
      "    results['start_c_link'] = start_c_link\n",
      "    results['end_cc_link'] = end_cc_link\n",
      "    results['start_cc_link'] = start_cc_link\n",
      "    results['end_c_link'] = end_c_link\n",
      "    results['holes'] = h\n",
      "    results['cycles'] = cycles\n",
      "    return results"
     ],
     "language": "python",
     "metadata": {},
     "outputs": [],
     "prompt_number": 47
    },
    {
     "cell_type": "code",
     "collapsed": false,
     "input": [
      "results = wed(g_cycles, coords, vertices, filaments, filament_neighbors)"
     ],
     "language": "python",
     "metadata": {},
     "outputs": [
      {
       "output_type": "stream",
       "stream": "stdout",
       "text": [
        "6 (2, 4.5)\n",
        "branch point both ends:  (2, 7, 11)\n",
        "14 (9, 1)\n",
        "(27, 26) 2\n",
        "hole or internal filament (27, 26) [23, 22, 20, 24, 23]\n",
        "(1, 3) 1\n",
        "(23, 24) 2\n",
        "(20, 19) 6\n",
        "(9, 8) 7\n",
        "(18, 19) 7\n",
        "(7, 11) 7\n",
        "(26, 25) 2\n",
        "hole or internal filament (26, 25) [23, 22, 20, 24, 23]\n",
        "(10, 8) 0\n",
        "(21, 20) 7\n",
        "except rp: (20, 12) [12, 13, 18, 19, 20, 12]\n",
        "(20, 12) 7\n",
        "(11, 12) 4\n",
        "(27, 25) 5\n",
        "except rp: (8, 10) [10, 9, 8, 10]\n",
        "(8, 10) 7\n",
        "(25, 26) 5\n",
        "except rp: (19, 21) [21, 20, 19, 21]\n",
        "(19, 21) 7\n",
        "(20, 22) 2\n",
        "(14, 15) 7\n",
        "(12, 11) 7\n",
        "(4, 2) 1\n",
        "except rp: (6, 5) [1, 2, 4, 3, 1]\n",
        "(6, 5) 1\n",
        "hole or internal filament (6, 5) [1, 2, 4, 3, 1]\n",
        "(21, 19) 3\n",
        "(20, 24) 7\n",
        "except rp: (3, 1) [1, 2, 4, 3, 1]\n",
        "(3, 1) 7\n",
        "(13, 18) 7\n",
        "except rp: (11, 13) [13, 12, 11, 13]\n",
        "(11, 13) 7\n",
        "(15, 16) 7\n",
        "(2, 4) 7\n",
        "(22, 23) 2\n",
        "(23, 22) 7\n",
        "(18, 13) 6\n",
        "(2, 1) 1\n",
        "(8, 9) 0\n",
        "except rp: (25, 27) [27, 26, 25, 27]\n",
        "(25, 27) 2\n",
        "hole or internal filament (25, 27) [23, 22, 20, 24, 23]\n",
        "(1, 2) 7\n",
        "(19, 18) 6\n",
        "(12, 13) 4\n",
        "except rp: (24, 23) [23, 22, 20, 24, 23]\n",
        "(24, 23) 7\n",
        "(10, 9) 7\n",
        "(13, 11) 4\n",
        "except rp: (5, 4) [1, 2, 4, 3, 1]\n",
        "(5, 4) 1\n",
        "hole or internal filament (5, 4) [1, 2, 4, 3, 1]\n",
        "(22, 20) 7\n",
        "(13, 12) 6\n",
        "(9, 10) 0\n",
        "(12, 20) 6\n",
        "(19, 20) 3\n",
        "(24, 20) 2\n",
        "(2, 7) 7\n",
        "(26, 27) 5\n",
        "(3, 4) 1\n",
        "(20, 21) 3\n",
        "(4, 3) 7\n"
       ]
      }
     ],
     "prompt_number": 48
    },
    {
     "cell_type": "code",
     "collapsed": false,
     "input": [
      "results['end_cc_link']"
     ],
     "language": "python",
     "metadata": {},
     "outputs": [
      {
       "output_type": "pyout",
       "prompt_number": 49,
       "text": [
        "{(1, 2): (2, 4),\n",
        " (2, 4): (4, 3),\n",
        " (4, 3): (3, 1),\n",
        " (9, 8): (8, 10),\n",
        " (10, 9): (9, 8),\n",
        " (12, 11): (11, 13),\n",
        " (12, 13): (13, 18),\n",
        " (13, 12): (12, 11),\n",
        " (13, 18): (18, 19),\n",
        " (18, 19): (19, 20),\n",
        " (19, 20): (20, 12),\n",
        " (20, 19): (19, 21),\n",
        " (20, 24): (24, 23),\n",
        " (21, 20): (20, 19),\n",
        " (22, 20): (20, 24),\n",
        " (23, 22): (22, 20),\n",
        " (26, 25): (25, 27),\n",
        " (27, 26): (26, 25)}"
       ]
      }
     ],
     "prompt_number": 49
    },
    {
     "cell_type": "code",
     "collapsed": false,
     "input": [
      "results['start_c_link']"
     ],
     "language": "python",
     "metadata": {},
     "outputs": [
      {
       "output_type": "pyout",
       "prompt_number": 50,
       "text": [
        "{(1, 2): (3, 1),\n",
        " (2, 4): (1, 2),\n",
        " (4, 3): (2, 4),\n",
        " (9, 8): (10, 9),\n",
        " (10, 9): (8, 10),\n",
        " (12, 11): (13, 12),\n",
        " (12, 13): (20, 12),\n",
        " (13, 12): (11, 13),\n",
        " (13, 18): (12, 13),\n",
        " (18, 19): (13, 18),\n",
        " (19, 20): (18, 19),\n",
        " (20, 19): (21, 20),\n",
        " (20, 24): (22, 20),\n",
        " (21, 20): (19, 21),\n",
        " (22, 20): (23, 22),\n",
        " (23, 22): (24, 23),\n",
        " (26, 25): (27, 26),\n",
        " (27, 26): (25, 27)}"
       ]
      }
     ],
     "prompt_number": 50
    },
    {
     "cell_type": "code",
     "collapsed": false,
     "input": [
      "results['start_cc_link']"
     ],
     "language": "python",
     "metadata": {},
     "outputs": [
      {
       "output_type": "pyout",
       "prompt_number": 51,
       "text": [
        "{(1, 3): (1, 2),\n",
        " (2, 1): (2, 4),\n",
        " (3, 4): (3, 1),\n",
        " (4, 2): (4, 3),\n",
        " (8, 9): (8, 10),\n",
        " (9, 10): (9, 8),\n",
        " (10, 8): (10, 9),\n",
        " (11, 12): (11, 13),\n",
        " (12, 13): (12, 11),\n",
        " (12, 20): (12, 13),\n",
        " (13, 11): (13, 12),\n",
        " (13, 12): (13, 18),\n",
        " (18, 13): (18, 19),\n",
        " (19, 18): (19, 20),\n",
        " (19, 20): (19, 21),\n",
        " (20, 19): (20, 12),\n",
        " (20, 21): (20, 19),\n",
        " (20, 22): (20, 24),\n",
        " (21, 19): (21, 20),\n",
        " (22, 23): (22, 20),\n",
        " (23, 24): (23, 22),\n",
        " (24, 20): (24, 23),\n",
        " (25, 26): (25, 27),\n",
        " (26, 27): (26, 25),\n",
        " (27, 25): (27, 26)}"
       ]
      }
     ],
     "prompt_number": 51
    },
    {
     "cell_type": "code",
     "collapsed": false,
     "input": [
      "for key in results['start_cc_link']:\n",
      "    print key, results['start_cc_link'][key], results['end_c_link'][key]"
     ],
     "language": "python",
     "metadata": {},
     "outputs": [
      {
       "output_type": "stream",
       "stream": "stdout",
       "text": [
        "(1, 3) (1, 2) (4, 3)\n",
        "(22, 23) (22, 20) (24, 23)\n",
        "(2, 1) (2, 4) (3, 1)\n",
        "(8, 9) (8, 10) (10, 9)\n",
        "(19, 20) (19, 21) (21, 20)\n",
        "(10, 8) (10, 9) (9, 8)\n",
        "(19, 18) (19, 20) (13, 18)\n",
        "(12, 20) (12, 13) (19, 20)\n",
        "(12, 13) (12, 11) (11, 13)\n",
        "(23, 24) (23, 22) (20, 24)\n",
        "(27, 25) (27, 26) (26, 25)\n",
        "(25, 26) (25, 27) (27, 26)\n",
        "(13, 11) (13, 12) (12, 11)\n",
        "(18, 13) (18, 19) (12, 13)\n",
        "(20, 22) (20, 24) (23, 22)\n",
        "(13, 12) (13, 18) (20, 12)\n",
        "(9, 10) (9, 8) (8, 10)\n",
        "(20, 19) (20, 12) (18, 19)\n",
        "(4, 2) (4, 3) (1, 2)\n",
        "(11, 12) (11, 13) (13, 12)\n",
        "(24, 20) (24, 23) (22, 20)\n",
        "(26, 27) (26, 25) (25, 27)\n",
        "(20, 21) (20, 19) (19, 21)\n",
        "(21, 19) (21, 20) (20, 19)\n",
        "(3, 4) (3, 1) (2, 4)\n"
       ]
      }
     ],
     "prompt_number": 52
    },
    {
     "cell_type": "code",
     "collapsed": false,
     "input": [
      "nx.draw(eg,pos = coords)"
     ],
     "language": "python",
     "metadata": {},
     "outputs": [
      {
       "output_type": "display_data",
       "png": "[encoded data removed]"
      }
     ],
     "prompt_number": 53
    },
    {
     "cell_type": "code",
     "collapsed": false,
     "input": [],
     "language": "python",
     "metadata": {},
     "outputs": []
    }
   ],
   "metadata": {}
  }
 ]
}